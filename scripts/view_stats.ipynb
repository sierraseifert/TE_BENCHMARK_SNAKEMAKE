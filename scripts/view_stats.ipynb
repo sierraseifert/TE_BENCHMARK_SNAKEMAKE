{
 "cells": [
  {
   "cell_type": "code",
   "execution_count": 1,
   "id": "63e5e5c9-0689-421c-9c02-aa02e39da2a7",
   "metadata": {
    "execution": {
     "iopub.execute_input": "2025-03-16T00:06:01.561145Z",
     "iopub.status.busy": "2025-03-16T00:06:01.560920Z",
     "iopub.status.idle": "2025-03-16T00:06:01.852412Z",
     "shell.execute_reply": "2025-03-16T00:06:01.852170Z"
    }
   },
   "outputs": [],
   "source": [
    "import numpy as np\n",
    "import matplotlib.pyplot as plt\n",
    "\n",
    "# define metrics\n",
    "labels = ['mcc', 'sens', 'spec', 'accu', 'prec', 'FDR', 'F1']\n",
    "num_vars = len(labels)\n",
    "\n",
    "# read stats from file\n",
    "def read_stats(file_path):\n",
    "    with open(file_path, 'r') as f:\n",
    "        lines = f.readlines()\n",
    "        \n",
    "    # Extract the values for RM2, EG, and EDTA\n",
    "    rm2_values = list(map(float, lines[1].strip().split(',')))\n",
    "    eg_values = list(map(float, lines[4].strip().split(',')))\n",
    "    edta_values = list(map(float, lines[7].strip().split(',')))\n",
    "    \n",
    "    return rm2_values, eg_values, edta_values\n",
    "\n",
    "# read the stats data from the stats.txt file\n",
    "stats_file = \"../output/stats.txt\" \n",
    "rm2_values, eg_values, edta_values = read_stats(stats_file)\n",
    "\n",
    "ideal_values = [1, 1, 1, 1, 0, 1]\n",
    "\n",
    "# compute angle for each axis of the hexagon\n",
    "angles = np.linspace(0, 2 * np.pi, num_vars, endpoint=False).tolist()\n",
    "\n",
    "# close the loop (the last point is the same as the first)\n",
    "rm2_values += rm2_values[:1]\n",
    "eg_values += eg_values[:1]\n",
    "edta_values += edta_values[:1]\n",
    "ideal_values += ideal_values[:1]\n",
    "angles += angles[:1]\n",
    "\n",
    "# set up the figure and axis\n",
    "fig, ax = plt.subplots(figsize=(6, 6), dpi=100, subplot_kw=dict(polar=True))\n",
    "\n",
    "# plot the data\n",
    "ax.plot(angles, rm2_values, color='b', linewidth=2, linestyle='solid', label='RM2')\n",
    "ax.plot(angles, eg_values, color='g', linewidth=2, linestyle='solid', label='Earl Grey')\n",
    "ax.plot(angles, edta_values, color='r', linewidth=2, linestyle='solid', label='EDTA')\n",
    "#ax.plot(angles, ideal_values, color='r', linewidth=2, linestyle='solid')\n",
    "\n",
    "# set the labels on the hexagon\n",
    "ax.set_xticks(angles[:-1])\n",
    "ax.set_xticklabels(labels, fontsize=12)\n",
    "\n",
    "ax.set_ylim(0, 1)\n",
    "ax.set_yticks([0.0, 0.3, 0.5, 0.8, 1.0])\n",
    "ax.set_yticklabels(['0.0', '0.3', '0.5', '0.8', '1.0'], fontsize=10)\n",
    "\n",
    "# set the range (0 to 1 for each metric)\n",
    "ax.set_ylim(0, 1)\n",
    "\n",
    "ax.legend(loc='center', bbox_to_anchor=(.2, .2), fontsize=12)\n",
    "\n",
    "plt.savefig(\"../output/plot_stats.png\")\n",
    "plt.close()\n"
   ]
  },
  {
   "cell_type": "code",
   "execution_count": null,
   "id": "61352a70-2abe-4c95-8195-18ea464f8b40",
   "metadata": {},
   "outputs": [],
   "source": []
  }
 ],
 "metadata": {
  "kernelspec": {
   "display_name": "Python 3 (ipykernel)",
   "language": "python",
   "name": "python3"
  },
  "language_info": {
   "codemirror_mode": {
    "name": "ipython",
    "version": 3
   },
   "file_extension": ".py",
   "mimetype": "text/x-python",
   "name": "python",
   "nbconvert_exporter": "python",
   "pygments_lexer": "ipython3",
   "version": "3.12.7"
  }
 },
 "nbformat": 4,
 "nbformat_minor": 5
}
